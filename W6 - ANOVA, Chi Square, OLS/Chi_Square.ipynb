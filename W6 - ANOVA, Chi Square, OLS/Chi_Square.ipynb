{
 "cells": [
  {
   "cell_type": "markdown",
   "metadata": {},
   "source": [
    "#### Chi-Square Test"
   ]
  },
  {
   "cell_type": "markdown",
   "metadata": {},
   "source": [
    "Example 1: Goodness-of-fit Test \n",
    "M&M anounced that the color breakdown of candy is 0.24, 0.20, 0.16, 0.14, 0.13, 0.13 for blue, orange, green, yellow, red, and brown.  \n",
    "\n",
    "A statistician collected 712 M&Ms to test if Mars’ published M&M color breakdown was accurate. These were the color breakdown he found:  \n",
    "18.7% blue  \n",
    "18.7% orange  \n",
    "19.5% green  \n",
    "14.5% yellow  \n",
    "15.1% red  \n",
    "13.5% brown  \n",
    "Please check if the sample is consistent with M&M's published breakdown.   "
   ]
  },
  {
   "cell_type": "code",
   "execution_count": 1,
   "metadata": {},
   "outputs": [
    {
     "name": "stdout",
     "output_type": "stream",
     "text": [
      "Chi-Square Statistic: 17.0656\n",
      "P-Value: 0.0044\n"
     ]
    }
   ],
   "source": [
    "import numpy as np\n",
    "from scipy import stats\n",
    "\n",
    "# Observed values (converted from proportions)\n",
    "observed = np.array([0.187 * 712, 0.187 * 712, 0.195 * 712, 0.145 * 712, 0.151 * 712, 0.135 * 712])\n",
    "\n",
    "# Expected probabilities (must sum to 1)\n",
    "expected_prob = np.array([0.24, 0.20, 0.16, 0.14, 0.13, 0.13])\n",
    "\n",
    "# Convert expected probabilities into expected counts\n",
    "expected = expected_prob * observed.sum()\n",
    "\n",
    "# Perform Chi-Square Goodness-of-Fit Test\n",
    "chi2_stat, p_value = stats.chisquare(f_obs=observed, f_exp=expected)\n",
    "\n",
    "# Print results\n",
    "print(f\"Chi-Square Statistic: {chi2_stat:.4f}\")\n",
    "print(f\"P-Value: {p_value:.4f}\")\n"
   ]
  },
  {
   "cell_type": "markdown",
   "metadata": {},
   "source": [
    "Example 2: Homogeneity Test"
   ]
  },
  {
   "cell_type": "code",
   "execution_count": 3,
   "metadata": {},
   "outputs": [
    {
     "name": "stdout",
     "output_type": "stream",
     "text": [
      "\n",
      "Chi-Square Test for Contingency Table\n",
      "Chi-Square Statistic: 17.5625\n",
      "P-Value: 0.0015\n",
      "Degrees of Freedom: 4\n",
      "Expected Frequencies:\n",
      "[[ 92.39711191  56.54151625  42.06137184]\n",
      " [ 66.27436823  40.55595668  30.16967509]\n",
      " [109.32851986  66.90252708  49.76895307]]\n"
     ]
    }
   ],
   "source": [
    "import pandas as pd\n",
    "\n",
    "# Example contingency table (replace with actual data)\n",
    "caith = np.array([\n",
    "    [110, 45, 36],  # Row 1\n",
    "    [67, 48, 22],   # Row 2\n",
    "    [91, 71, 64],   # Row 3\n",
    "])  \n",
    "\n",
    "# Perform Chi-Square Test for Independence\n",
    "chi2_stat, p_value, dof, expected = stats.chi2_contingency(caith)\n",
    "\n",
    "# Print results\n",
    "print(f\"\\nChi-Square Test for Contingency Table\")\n",
    "print(f\"Chi-Square Statistic: {chi2_stat:.4f}\")\n",
    "print(f\"P-Value: {p_value:.4f}\")\n",
    "print(f\"Degrees of Freedom: {dof}\")\n",
    "print(f\"Expected Frequencies:\\n{expected}\")\n"
   ]
  }
 ],
 "metadata": {
  "kernelspec": {
   "display_name": "Python 3",
   "language": "python",
   "name": "python3"
  },
  "language_info": {
   "codemirror_mode": {
    "name": "ipython",
    "version": 3
   },
   "file_extension": ".py",
   "mimetype": "text/x-python",
   "name": "python",
   "nbconvert_exporter": "python",
   "pygments_lexer": "ipython3",
   "version": "3.11.9"
  }
 },
 "nbformat": 4,
 "nbformat_minor": 2
}
